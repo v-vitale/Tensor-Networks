{
 "cells": [
  {
   "cell_type": "code",
   "execution_count": 1,
   "id": "cc759889-8bfd-4e6f-b682-69a0a9ad33a2",
   "metadata": {
    "tags": []
   },
   "outputs": [],
   "source": [
    "using Distributed\n",
    "using LaTeXStrings\n",
    "using Plots"
   ]
  },
  {
   "cell_type": "code",
   "execution_count": 2,
   "id": "bf2fcb07-501d-465f-bef9-0c4ead6a8c85",
   "metadata": {
    "tags": []
   },
   "outputs": [],
   "source": [
    "include(\"./mps.jl\");"
   ]
  },
  {
   "cell_type": "code",
   "execution_count": 3,
   "id": "f674fcc0-07fe-4197-b5da-cbe50d895e3e",
   "metadata": {
    "tags": []
   },
   "outputs": [],
   "source": [
    "include(\"./mpo.jl\");"
   ]
  },
  {
   "cell_type": "code",
   "execution_count": 4,
   "id": "4526c7fa-2e78-4c92-bda2-d3802bade59b",
   "metadata": {
    "tags": []
   },
   "outputs": [],
   "source": [
    "include(\"./dmrg.jl\");"
   ]
  },
  {
   "cell_type": "code",
   "execution_count": 5,
   "id": "86b5226b-c290-4991-aa40-19f73389c095",
   "metadata": {
    "tags": []
   },
   "outputs": [
    {
     "data": {
      "text/plain": [
       "3×3 Matrix{Int64}:\n",
       " 1  4  7\n",
       " 2  5  8\n",
       " 3  6  9"
      ]
     },
     "execution_count": 5,
     "metadata": {},
     "output_type": "execute_result"
    }
   ],
   "source": [
    "cols=3\n",
    "rows=3\n",
    "config=zeros(Int,rows,cols)\n",
    "k=0\n",
    "for j in 1:cols\n",
    "    for i in 1:rows\n",
    "        k+=1\n",
    "        config[i,j]=k\n",
    "    end\n",
    "end\n",
    "config"
   ]
  },
  {
   "cell_type": "code",
   "execution_count": 6,
   "id": "7603e59b-c750-45fb-94ce-32b460b9eaf4",
   "metadata": {
    "tags": []
   },
   "outputs": [],
   "source": [
    "d=2\n",
    "chi=10\n",
    "chimax=64\n",
    "sweeps=10\n",
    "J1=1.\n",
    "J2=0.5\n",
    "M=MPO()\n",
    "Initialize!(\"J1-J2_ITensors\",M,J1,J2,cols,rows,config);"
   ]
  },
  {
   "cell_type": "code",
   "execution_count": 7,
   "id": "4f539255-ff1f-4f5d-b1a1-064369a19fa8",
   "metadata": {
    "tags": []
   },
   "outputs": [
    {
     "name": "stdout",
     "output_type": "stream",
     "text": [
      "Done! Energy= -15.837359989589917; Variance: -5.684341886080802e-14\n"
     ]
    }
   ],
   "source": [
    "ψ=MPS()\n",
    "Initialize!(ψ,d,chi,cols*rows)\n",
    "two_sites_dmrg!(ψ,M,sweeps,chimax)"
   ]
  }
 ],
 "metadata": {
  "kernelspec": {
   "display_name": "Julia 1.8.0",
   "language": "julia",
   "name": "julia-1.8"
  },
  "language_info": {
   "file_extension": ".jl",
   "mimetype": "application/julia",
   "name": "julia",
   "version": "1.8.0"
  }
 },
 "nbformat": 4,
 "nbformat_minor": 5
}
