{
 "cells": [
  {
   "cell_type": "code",
   "execution_count": null,
   "id": "cc759889-8bfd-4e6f-b682-69a0a9ad33a2",
   "metadata": {
    "tags": []
   },
   "outputs": [],
   "source": [
    "using Distributed"
   ]
  },
  {
   "cell_type": "code",
   "execution_count": null,
   "id": "bac70533-c346-4f70-9f28-208e3b0567df",
   "metadata": {
    "tags": []
   },
   "outputs": [],
   "source": [
    "include(\"./base_utils.jl\")"
   ]
  },
  {
   "cell_type": "code",
   "execution_count": null,
   "id": "4526c7fa-2e78-4c92-bda2-d3802bade59b",
   "metadata": {
    "tags": []
   },
   "outputs": [],
   "source": [
    "include(\"./dmrg.jl\");"
   ]
  },
  {
   "cell_type": "code",
   "execution_count": null,
   "id": "93c9e47c-7030-4dfa-846e-dc1a0fe6cc5e",
   "metadata": {
    "tags": []
   },
   "outputs": [],
   "source": [
    "include(\"./time_evo.jl\");"
   ]
  },
  {
   "cell_type": "code",
   "execution_count": null,
   "id": "01fa9fa8-e8d7-4107-b8c1-6c311db543c5",
   "metadata": {
    "tags": []
   },
   "outputs": [],
   "source": [
    "include(\"./RUC.jl\");"
   ]
  },
  {
   "cell_type": "code",
   "execution_count": null,
   "id": "c225faff-c57b-42a5-af81-9b20425c367e",
   "metadata": {
    "tags": []
   },
   "outputs": [],
   "source": [
    "include(\"sampling.jl\");"
   ]
  },
  {
   "cell_type": "markdown",
   "id": "63005205",
   "metadata": {},
   "source": [
    "# Test DMRG"
   ]
  },
  {
   "cell_type": "code",
   "execution_count": null,
   "id": "86b5226b-c290-4991-aa40-19f73389c095",
   "metadata": {
    "tags": []
   },
   "outputs": [],
   "source": [
    "cols=3\n",
    "rows=3\n",
    "config=zeros(Int,rows,cols)\n",
    "k=0\n",
    "for j in 1:cols\n",
    "    for i in 1:rows\n",
    "        k+=1\n",
    "        config[i,j]=k\n",
    "    end\n",
    "end\n",
    "config"
   ]
  },
  {
   "cell_type": "code",
   "execution_count": null,
   "id": "7603e59b-c750-45fb-94ce-32b460b9eaf4",
   "metadata": {
    "tags": []
   },
   "outputs": [],
   "source": [
    "d=2\n",
    "chi=10\n",
    "chimax=64\n",
    "sweeps=10\n",
    "J1=1.\n",
    "J2=0.5\n",
    "M=MPO()\n",
    "Initialize!(\"J1-J2_ITensors\",M,J1,J2,cols,rows,config);"
   ]
  },
  {
   "cell_type": "code",
   "execution_count": null,
   "id": "4f539255-ff1f-4f5d-b1a1-064369a19fa8",
   "metadata": {
    "tags": []
   },
   "outputs": [],
   "source": [
    "ψ=MPS()\n",
    "Initialize!(ψ,d,chi,cols*rows)\n",
    "two_sites_dmrg!(ψ,M,sweeps,chimax)"
   ]
  },
  {
   "cell_type": "code",
   "execution_count": null,
   "id": "e66cc50d",
   "metadata": {},
   "outputs": [],
   "source": []
  },
  {
   "cell_type": "code",
   "execution_count": null,
   "id": "7421cb40",
   "metadata": {},
   "outputs": [],
   "source": []
  },
  {
   "cell_type": "markdown",
   "id": "4978c5f0",
   "metadata": {},
   "source": [
    "# Test RUC"
   ]
  },
  {
   "cell_type": "code",
   "execution_count": null,
   "id": "efc65f41",
   "metadata": {},
   "outputs": [],
   "source": [
    "include(\"./RUC.jl\")\n",
    "include(\"./time_evo.jl\")"
   ]
  },
  {
   "cell_type": "code",
   "execution_count": null,
   "id": "51fac925",
   "metadata": {},
   "outputs": [],
   "source": [
    "ψ=MPS()\n",
    "N=10\n",
    "d=1\n",
    "Initialize!(\"product_state\",ψ,repeat([\"up\",\"down\"],Int(N/2)))"
   ]
  },
  {
   "cell_type": "code",
   "execution_count": null,
   "id": "d5e2fc9a",
   "metadata": {},
   "outputs": [],
   "source": [
    "Ulist=RUC_layer(ψ.N);\n",
    "print(size(Ulist))"
   ]
  },
  {
   "cell_type": "code",
   "execution_count": null,
   "id": "b1431b0e",
   "metadata": {},
   "outputs": [],
   "source": [
    "ψt=copy(ψ)\n",
    "sweeps=1\n",
    "trotter_evolution!(ψt,Ulist,sweeps)"
   ]
  },
  {
   "cell_type": "code",
   "execution_count": null,
   "id": "9d62678d",
   "metadata": {},
   "outputs": [],
   "source": [
    "sweeps=1\n",
    "nruns=50\n",
    "evosteps=50\n",
    "ψ=MPS()\n",
    "N=10\n",
    "Initialize!(\"product_state\",ψ,repeat([\"up\",\"down\"],Int(N/2)))\n",
    "prange=0:0.05:1\n",
    "Observables=zeros(length(prange),nruns,evosteps+1,N)\n",
    "for (ip,p) in enumerate(prange)\n",
    "    println(\"p= \",p,\" and run: \")\n",
    "    \n",
    "    for run in 1:nruns\n",
    "        print(run,\" \")\n",
    "        #print(\"time step: \")\n",
    "        ψt=copy(ψ)\n",
    "        Observables[ip,run,1,:]=calc_entropy(ψt)\n",
    "        for i in 1:evosteps\n",
    "            #print(i,\" \")\n",
    "            Ulist=RUC_layer(ψt.N);\n",
    "            trotter_evolution!(ψt,Ulist,sweeps)\n",
    "            RUC_measure!(ψt,p)\n",
    "            Observables[ip,run,i+1,:]=calc_entropy(ψt)        \n",
    "            #=if mod(i,interval)==0\n",
    "                print(step,\" \")\n",
    "                step+=1\n",
    "                cc[step,:]=sample_configs(ψt,1)\n",
    "                ent[step,:]=calc_entropy(ψt)\n",
    "                #projection\n",
    "                P=MPO()\n",
    "                Initialize!(\"proj\",P,cc[step,:],Array(1:ψt.N),ψt.N)\n",
    "                ψt=P*ψt\n",
    "                right_normalize!(ψt)\n",
    "            end\n",
    "            =#\n",
    "\n",
    "        end\n",
    "        #println()\n",
    "    end\n",
    "    println()\n",
    "end"
   ]
  },
  {
   "cell_type": "code",
   "execution_count": null,
   "id": "8efacb3f",
   "metadata": {},
   "outputs": [],
   "source": [
    "using Plots"
   ]
  },
  {
   "cell_type": "code",
   "execution_count": null,
   "id": "9cdf0d79",
   "metadata": {},
   "outputs": [],
   "source": [
    "plot([mean(Observables[21,:,i,Int(N/2)+1]) for i in 1:evosteps+1])"
   ]
  },
  {
   "cell_type": "code",
   "execution_count": null,
   "id": "35eac113",
   "metadata": {},
   "outputs": [],
   "source": [
    "\n",
    "println([mean(Observables[[21,:,i,Int(N/2)+1]) for i in 1:evosteps+1])"
   ]
  },
  {
   "cell_type": "code",
   "execution_count": null,
   "id": "a65325c9",
   "metadata": {},
   "outputs": [],
   "source": []
  }
 ],
 "metadata": {
  "@webio": {
   "lastCommId": null,
   "lastKernelId": null
  },
  "kernelspec": {
   "display_name": "Julia 1.8.0",
   "language": "julia",
   "name": "julia-1.8"
  },
  "language_info": {
   "file_extension": ".jl",
   "mimetype": "application/julia",
   "name": "julia",
   "version": "1.8.0"
  }
 },
 "nbformat": 4,
 "nbformat_minor": 5
}
