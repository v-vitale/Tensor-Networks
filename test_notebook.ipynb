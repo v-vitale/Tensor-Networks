{
 "cells": [
  {
   "cell_type": "code",
   "execution_count": 5,
   "id": "cc759889-8bfd-4e6f-b682-69a0a9ad33a2",
   "metadata": {
    "tags": []
   },
   "outputs": [],
   "source": [
    "using Distributed\n",
    "using LaTeXStrings\n",
    "using Plots"
   ]
  },
  {
   "cell_type": "code",
   "execution_count": 6,
   "id": "bf2fcb07-501d-465f-bef9-0c4ead6a8c85",
   "metadata": {
    "tags": []
   },
   "outputs": [],
   "source": [
    "include(\"./mps.jl\");"
   ]
  },
  {
   "cell_type": "code",
   "execution_count": 7,
   "id": "f674fcc0-07fe-4197-b5da-cbe50d895e3e",
   "metadata": {
    "tags": []
   },
   "outputs": [
    {
     "ename": "LoadError",
     "evalue": "LoadError: \u001b[91msyntax: extra token \"as\" after end of expression\u001b[39m\nin expression starting at /home/vvitale/Tensor-Networks/mpo.jl:6",
     "output_type": "error",
     "traceback": [
      "LoadError: \u001b[91msyntax: extra token \"as\" after end of expression\u001b[39m\nin expression starting at /home/vvitale/Tensor-Networks/mpo.jl:6",
      "",
      "Stacktrace:",
      " [1] top-level scope at /home/vvitale/Tensor-Networks/mpo.jl:6",
      " [2] include(::String) at ./client.jl:457",
      " [3] top-level scope at In[7]:1",
      " [4] include_string(::Function, ::Module, ::String, ::String) at ./loading.jl:1091"
     ]
    }
   ],
   "source": [
    "include(\"./mpo.jl\");"
   ]
  },
  {
   "cell_type": "code",
   "execution_count": 8,
   "id": "4526c7fa-2e78-4c92-bda2-d3802bade59b",
   "metadata": {
    "tags": []
   },
   "outputs": [
    {
     "ename": "LoadError",
     "evalue": "LoadError: LoadError: \u001b[91msyntax: extra token \"as\" after end of expression\u001b[39m\nin expression starting at /home/vvitale/Tensor-Networks/mpo.jl:6\nin expression starting at /home/vvitale/Tensor-Networks/dmrg.jl:6",
     "output_type": "error",
     "traceback": [
      "LoadError: LoadError: \u001b[91msyntax: extra token \"as\" after end of expression\u001b[39m\nin expression starting at /home/vvitale/Tensor-Networks/mpo.jl:6\nin expression starting at /home/vvitale/Tensor-Networks/dmrg.jl:6",
      "",
      "Stacktrace:",
      " [1] top-level scope at /home/vvitale/Tensor-Networks/mpo.jl:6",
      " [2] include(::String) at ./client.jl:457",
      " [3] top-level scope at /home/vvitale/Tensor-Networks/dmrg.jl:6",
      " [4] include(::String) at ./client.jl:457",
      " [5] top-level scope at In[8]:1",
      " [6] include_string(::Function, ::Module, ::String, ::String) at ./loading.jl:1091"
     ]
    }
   ],
   "source": [
    "include(\"./dmrg.jl\");"
   ]
  },
  {
   "cell_type": "markdown",
   "id": "63005205",
   "metadata": {},
   "source": [
    "# Test DMRG"
   ]
  },
  {
   "cell_type": "code",
   "execution_count": 5,
   "id": "86b5226b-c290-4991-aa40-19f73389c095",
   "metadata": {
    "tags": []
   },
   "outputs": [
    {
     "data": {
      "text/plain": [
       "3×3 Matrix{Int64}:\n",
       " 1  4  7\n",
       " 2  5  8\n",
       " 3  6  9"
      ]
     },
     "execution_count": 5,
     "metadata": {},
     "output_type": "execute_result"
    }
   ],
   "source": [
    "cols=3\n",
    "rows=3\n",
    "config=zeros(Int,rows,cols)\n",
    "k=0\n",
    "for j in 1:cols\n",
    "    for i in 1:rows\n",
    "        k+=1\n",
    "        config[i,j]=k\n",
    "    end\n",
    "end\n",
    "config"
   ]
  },
  {
   "cell_type": "code",
   "execution_count": 6,
   "id": "7603e59b-c750-45fb-94ce-32b460b9eaf4",
   "metadata": {
    "tags": []
   },
   "outputs": [],
   "source": [
    "d=2\n",
    "chi=10\n",
    "chimax=64\n",
    "sweeps=10\n",
    "J1=1.\n",
    "J2=0.5\n",
    "M=MPO()\n",
    "Initialize!(\"J1-J2_ITensors\",M,J1,J2,cols,rows,config);"
   ]
  },
  {
   "cell_type": "code",
   "execution_count": 7,
   "id": "4f539255-ff1f-4f5d-b1a1-064369a19fa8",
   "metadata": {
    "tags": []
   },
   "outputs": [
    {
     "name": "stdout",
     "output_type": "stream",
     "text": [
      "Done! Energy= -15.837359989589917; Variance: -5.684341886080802e-14\n"
     ]
    }
   ],
   "source": [
    "ψ=MPS()\n",
    "Initialize!(ψ,d,chi,cols*rows)\n",
    "two_sites_dmrg!(ψ,M,sweeps,chimax)"
   ]
  },
  {
   "cell_type": "code",
   "execution_count": null,
   "id": "e66cc50d",
   "metadata": {},
   "outputs": [],
   "source": []
  },
  {
   "cell_type": "code",
   "execution_count": null,
   "id": "7421cb40",
   "metadata": {},
   "outputs": [],
   "source": []
  },
  {
   "cell_type": "markdown",
   "id": "4978c5f0",
   "metadata": {},
   "source": [
    "# Test RUC"
   ]
  },
  {
   "cell_type": "code",
   "execution_count": null,
   "id": "139a245a",
   "metadata": {},
   "outputs": [],
   "source": [
    "include(\"./RUC.jl\")"
   ]
  }
 ],
 "metadata": {
  "kernelspec": {
   "display_name": "Julia (100 threads) 1.5.3",
   "language": "julia",
   "name": "julia-(100-threads)-1.5"
  },
  "language_info": {
   "file_extension": ".jl",
   "mimetype": "application/julia",
   "name": "julia",
   "version": "1.5.3"
  }
 },
 "nbformat": 4,
 "nbformat_minor": 5
}
