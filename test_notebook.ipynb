{
 "cells": [
  {
   "cell_type": "code",
   "execution_count": 1,
   "id": "cc759889-8bfd-4e6f-b682-69a0a9ad33a2",
   "metadata": {
    "tags": []
   },
   "outputs": [],
   "source": [
    "using Distributed\n",
    "using LaTeXStrings\n",
    "using Plots"
   ]
  },
  {
   "cell_type": "code",
   "execution_count": 2,
   "id": "bf2fcb07-501d-465f-bef9-0c4ead6a8c85",
   "metadata": {
    "tags": []
   },
   "outputs": [],
   "source": [
    "include(\"./mps.jl\");"
   ]
  },
  {
   "cell_type": "code",
   "execution_count": 3,
   "id": "f674fcc0-07fe-4197-b5da-cbe50d895e3e",
   "metadata": {
    "tags": []
   },
   "outputs": [
    {
     "ename": "LoadError",
     "evalue": "LoadError: cannot assign a value to variable ITensors.MPO from module Main\nin expression starting at /scratch/Tensor-Networks/mpo.jl:18",
     "output_type": "error",
     "traceback": [
      "LoadError: cannot assign a value to variable ITensors.MPO from module Main\nin expression starting at /scratch/Tensor-Networks/mpo.jl:18",
      "",
      "Stacktrace:",
      " [1] top-level scope",
      "   @ /scratch/Tensor-Networks/mpo.jl:18",
      " [2] include(fname::String)",
      "   @ Base.MainInclude ./client.jl:476",
      " [3] top-level scope",
      "   @ In[3]:1"
     ]
    }
   ],
   "source": [
    "include(\"./mpo.jl\");"
   ]
  },
  {
   "cell_type": "code",
   "execution_count": null,
   "id": "4526c7fa-2e78-4c92-bda2-d3802bade59b",
   "metadata": {},
   "outputs": [],
   "source": [
    "include(\"./dmrg.jl\");"
   ]
  },
  {
   "cell_type": "code",
   "execution_count": null,
   "id": "86b5226b-c290-4991-aa40-19f73389c095",
   "metadata": {},
   "outputs": [],
   "source": [
    "cols=3\n",
    "rows=3\n",
    "config=zeros(Int,rows,cols)\n",
    "k=0\n",
    "for j in 1:cols\n",
    "    for i in 1:rows\n",
    "        k+=1\n",
    "        config[i,j]=k\n",
    "    end\n",
    "end\n",
    "config"
   ]
  },
  {
   "cell_type": "code",
   "execution_count": null,
   "id": "7603e59b-c750-45fb-94ce-32b460b9eaf4",
   "metadata": {},
   "outputs": [],
   "source": [
    "d=2\n",
    "chi=100\n",
    "chimax=64\n",
    "sweeps=100\n",
    "J1=1.\n",
    "J2=0.5\n",
    "M=MPO()\n",
    "Initialize!(\"J1-J2_ITensors\",M,J1,J2,cols,rows,config);"
   ]
  }
 ],
 "metadata": {
  "kernelspec": {
   "display_name": "Julia 1.8.0",
   "language": "julia",
   "name": "julia-1.8"
  },
  "language_info": {
   "file_extension": ".jl",
   "mimetype": "application/julia",
   "name": "julia",
   "version": "1.8.0"
  }
 },
 "nbformat": 4,
 "nbformat_minor": 5
}
