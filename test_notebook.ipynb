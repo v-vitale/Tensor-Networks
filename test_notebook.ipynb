{
 "cells": [
  {
   "cell_type": "code",
   "execution_count": 1,
   "id": "cc759889-8bfd-4e6f-b682-69a0a9ad33a2",
   "metadata": {
    "tags": []
   },
   "outputs": [],
   "source": [
    "using Distributed"
   ]
  },
  {
   "cell_type": "code",
   "execution_count": 2,
   "id": "bf2fcb07-501d-465f-bef9-0c4ead6a8c85",
   "metadata": {
    "tags": []
   },
   "outputs": [],
   "source": [
    "include(\"./mps.jl\");"
   ]
  },
  {
   "cell_type": "code",
   "execution_count": 3,
   "id": "f674fcc0-07fe-4197-b5da-cbe50d895e3e",
   "metadata": {
    "tags": []
   },
   "outputs": [],
   "source": [
    "include(\"./mpo.jl\");"
   ]
  },
  {
   "cell_type": "code",
   "execution_count": 4,
   "id": "4526c7fa-2e78-4c92-bda2-d3802bade59b",
   "metadata": {
    "tags": []
   },
   "outputs": [],
   "source": [
    "include(\"./dmrg.jl\");"
   ]
  },
  {
   "cell_type": "code",
   "execution_count": null,
   "id": "535181ae",
   "metadata": {},
   "outputs": [],
   "source": [
    "include(\"./RUC.jl\")"
   ]
  },
  {
   "cell_type": "code",
   "execution_count": null,
   "id": "cb5f8e3a",
   "metadata": {},
   "outputs": [],
   "source": [
    "include(\"./time_evo.jl\")"
   ]
  },
  {
   "cell_type": "markdown",
   "id": "63005205",
   "metadata": {},
   "source": [
    "# Test DMRG"
   ]
  },
  {
   "cell_type": "code",
   "execution_count": 5,
   "id": "86b5226b-c290-4991-aa40-19f73389c095",
   "metadata": {
    "tags": []
   },
   "outputs": [
    {
     "data": {
      "text/plain": [
       "3×3 Matrix{Int64}:\n",
       " 1  4  7\n",
       " 2  5  8\n",
       " 3  6  9"
      ]
     },
     "execution_count": 5,
     "metadata": {},
     "output_type": "execute_result"
    }
   ],
   "source": [
    "cols=3\n",
    "rows=3\n",
    "config=zeros(Int,rows,cols)\n",
    "k=0\n",
    "for j in 1:cols\n",
    "    for i in 1:rows\n",
    "        k+=1\n",
    "        config[i,j]=k\n",
    "    end\n",
    "end\n",
    "config"
   ]
  },
  {
   "cell_type": "code",
   "execution_count": 6,
   "id": "7603e59b-c750-45fb-94ce-32b460b9eaf4",
   "metadata": {
    "tags": []
   },
   "outputs": [],
   "source": [
    "d=2\n",
    "chi=10\n",
    "chimax=64\n",
    "sweeps=10\n",
    "J1=1.\n",
    "J2=0.5\n",
    "M=MPO()\n",
    "Initialize!(\"J1-J2_ITensors\",M,J1,J2,cols,rows,config);"
   ]
  },
  {
   "cell_type": "code",
   "execution_count": 7,
   "id": "4f539255-ff1f-4f5d-b1a1-064369a19fa8",
   "metadata": {
    "tags": []
   },
   "outputs": [
    {
     "name": "stdout",
     "output_type": "stream",
     "text": [
      "Done! Energy= -15.837359989589917; Variance: -5.684341886080802e-14\n"
     ]
    }
   ],
   "source": [
    "ψ=MPS()\n",
    "Initialize!(ψ,d,chi,cols*rows)\n",
    "two_sites_dmrg!(ψ,M,sweeps,chimax)"
   ]
  },
  {
   "cell_type": "code",
   "execution_count": null,
   "id": "e66cc50d",
   "metadata": {},
   "outputs": [],
   "source": []
  },
  {
   "cell_type": "code",
   "execution_count": null,
   "id": "7421cb40",
   "metadata": {},
   "outputs": [],
   "source": []
  },
  {
   "cell_type": "markdown",
   "id": "4978c5f0",
   "metadata": {},
   "source": [
    "# Test timevo"
   ]
  },
  {
   "cell_type": "code",
   "execution_count": 19,
   "id": "e9d4838b",
   "metadata": {},
   "outputs": [
    {
     "data": {
      "text/plain": [
       "\"Product state: [\\\"up\\\", \\\"down\\\", \\\"up\\\", \\\"down\\\", \\\"up\\\", \\\"down\\\", \\\"up\\\", \\\"down\\\", \\\"up\\\", \\\"down\\\"]\""
      ]
     },
     "execution_count": 19,
     "metadata": {},
     "output_type": "execute_result"
    }
   ],
   "source": [
    "ψ=MPS()\n",
    "N=10\n",
    "d=1\n",
    "Initialize!(\"product_state\",ψ,repeat([\"up\",\"down\"],Int(N/2)))"
   ]
  },
  {
   "cell_type": "code",
   "execution_count": 20,
   "id": "cae3df2f",
   "metadata": {},
   "outputs": [
    {
     "name": "stdout",
     "output_type": "stream",
     "text": [
      "(9,)"
     ]
    }
   ],
   "source": [
    "Ulist=RUC_layer(ψ.N);\n",
    "print(size(Ulist));"
   ]
  },
  {
   "cell_type": "code",
   "execution_count": 21,
   "id": "f12c35ea",
   "metadata": {},
   "outputs": [],
   "source": [
    "ψt=copy(ψ)\n",
    "sweeps=1\n",
    "trotter_evolution!(ψt,Ulist,sweeps)"
   ]
  }
 ],
 "metadata": {
  "@webio": {
   "lastCommId": null,
   "lastKernelId": null
  },
  "kernelspec": {
   "display_name": "Julia 2 1.8.5",
   "language": "julia",
   "name": "julia-2-1.8"
  },
  "language_info": {
   "file_extension": ".jl",
   "mimetype": "application/julia",
   "name": "julia",
   "version": "1.8.5"
  }
 },
 "nbformat": 4,
 "nbformat_minor": 5
}
